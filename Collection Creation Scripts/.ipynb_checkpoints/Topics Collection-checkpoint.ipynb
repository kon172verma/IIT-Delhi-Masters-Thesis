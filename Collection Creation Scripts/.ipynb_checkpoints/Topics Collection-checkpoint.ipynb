{
 "cells": [
  {
   "cell_type": "code",
   "execution_count": 2,
   "metadata": {},
   "outputs": [],
   "source": [
    "# Importing the required libraries.\n",
    "from pymongo import MongoClient\n",
    "from IPython.display import clear_output\n",
    "\n",
    "# Creating the connection to the gem2 server.\n",
    "client = MongoClient('mongodb://act4dgem.cse.iitd.ac.in',serverSelectionTimeoutMS=500000000)\n",
    "source_collection = client['media-db']['articles']"
   ]
  },
  {
   "cell_type": "code",
   "execution_count": 22,
   "metadata": {},
   "outputs": [
    {
     "name": "stdout",
     "output_type": "stream",
     "text": [
      "1000\n"
     ]
    }
   ],
   "source": [
    "articles = source_collection.find({}).limit(1000)\n",
    "topics_set = set()\n",
    "processed = 0\n",
    "for article in articles:\n",
    "    try:\n",
    "        topics = article['topics']\n",
    "        for topic in topics:\n",
    "            topic_name = (str(topic['name'])).lower().strip()\n",
    "            topics_set.add(topic_name)\n",
    "    except:\n",
    "        pass\n",
    "    processed+=1\n",
    "    clear_output(wait=True)\n",
    "    print(processed)"
   ]
  },
  {
   "cell_type": "code",
   "execution_count": 23,
   "metadata": {},
   "outputs": [
    {
     "name": "stdout",
     "output_type": "stream",
     "text": [
      "{'education', 'health_medical_pharma', 'weather', 'entertainment_culture', 'war_conflict', 'religion_belief', 'social issues', 'technology_internet', 'sports', 'other', 'labor', 'human interest', 'hospitality_recreation', 'disaster_accident', 'politics', 'business_finance', 'law_crime', 'environment'}\n"
     ]
    }
   ],
   "source": [
    "print(topics_set)"
   ]
  },
  {
   "cell_type": "code",
   "execution_count": null,
   "metadata": {},
   "outputs": [],
   "source": []
  }
 ],
 "metadata": {
  "kernelspec": {
   "display_name": "Python 3",
   "language": "python",
   "name": "python3"
  },
  "language_info": {
   "codemirror_mode": {
    "name": "ipython",
    "version": 3
   },
   "file_extension": ".py",
   "mimetype": "text/x-python",
   "name": "python",
   "nbconvert_exporter": "python",
   "pygments_lexer": "ipython3",
   "version": "3.6.9"
  }
 },
 "nbformat": 4,
 "nbformat_minor": 2
}

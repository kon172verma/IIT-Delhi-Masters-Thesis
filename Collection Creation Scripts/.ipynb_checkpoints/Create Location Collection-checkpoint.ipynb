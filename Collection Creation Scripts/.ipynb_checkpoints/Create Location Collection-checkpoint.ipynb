{
 "cells": [
  {
   "cell_type": "code",
   "execution_count": 1,
   "metadata": {},
   "outputs": [],
   "source": [
    "# Importing the required libraries.\n",
    "from pymongo import MongoClient\n",
    "from IPython.display import clear_output\n",
    "\n",
    "# Creating the connection to the gem2 server.\n",
    "client = MongoClient('mongodb://act4dgem.cse.iitd.ac.in',serverSelectionTimeoutMS=500000000)\n",
    "source_collection = client['media-db']['articles']\n",
    "found_collection = client['media-db']['JK_location_articles']"
   ]
  },
  {
   "cell_type": "code",
   "execution_count": null,
   "metadata": {},
   "outputs": [
    {
     "name": "stdout",
     "output_type": "stream",
     "text": [
      "31792/64951\n"
     ]
    }
   ],
   "source": [
    "articles = source_collection.find({})\n",
    "location_file = open('locations.txt','w')\n",
    "processed = 0\n",
    "count = 0\n",
    "for article in articles:\n",
    "    try:\n",
    "        found = False\n",
    "        entities = article['entities']\n",
    "        for entity in entities:\n",
    "            entity_type = str(entity['type']).strip().lower()\n",
    "            if entity_type=='provinceorstate' or entity_type=='city':\n",
    "                location_file.write(str(entity['name'])+'\\n')\n",
    "                found = True\n",
    "        if found:\n",
    "            count+=1\n",
    "            found_collection.insert_one(article)\n",
    "    except:\n",
    "        pass\n",
    "    processed+=1\n",
    "    clear_output(wait=True)\n",
    "    print(str(count)+'/'+str(processed))\n",
    "location_file.close()"
   ]
  },
  {
   "cell_type": "code",
   "execution_count": null,
   "metadata": {},
   "outputs": [],
   "source": []
  }
 ],
 "metadata": {
  "kernelspec": {
   "display_name": "Python 3",
   "language": "python",
   "name": "python3"
  },
  "language_info": {
   "codemirror_mode": {
    "name": "ipython",
    "version": 3
   },
   "file_extension": ".py",
   "mimetype": "text/x-python",
   "name": "python",
   "nbconvert_exporter": "python",
   "pygments_lexer": "ipython3",
   "version": "3.6.9"
  }
 },
 "nbformat": 4,
 "nbformat_minor": 2
}

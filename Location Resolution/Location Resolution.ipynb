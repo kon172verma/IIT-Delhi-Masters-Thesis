{
 "cells": [
  {
   "cell_type": "markdown",
   "metadata": {},
   "source": [
    "<p>\n",
    "This script generates the following file: \n",
    "</p><p>\n",
    "'locations_data' : contains names of all the districts, sub-districts and towns.\n",
    "</p><p>\n",
    "Manual data cleaning is done on 'locations_data' and that file is saved to 'locations_data_2'\n",
    "</p><p>\n",
    "finally strip and lower is done to generate <b>'locations_data_2.csv'</b>\n",
    "<p>"
   ]
  },
  {
   "cell_type": "code",
   "execution_count": 1,
   "metadata": {},
   "outputs": [],
   "source": [
    "# Importing the required libraries.\n",
    "import pandas as pd\n",
    "import xlrd\n",
    "import os"
   ]
  },
  {
   "cell_type": "code",
   "execution_count": 2,
   "metadata": {},
   "outputs": [],
   "source": [
    "# Getting the list of all the state wise excel files.\n",
    "_,_,files = next(os.walk('./state xlsx/'))\n",
    "\n",
    "# Making a single dataframe for districts, sub-districts, towns names.\n",
    "locations_data = pd.read_excel('./state xlsx/'+files[0])\n",
    "locations_data = (locations_data[['MDDS DTC','SUB-DISTRICT NAME']][1:]).drop_duplicates()\n",
    "\n",
    "for file in files[1:]:\n",
    "    data = pd.read_excel('./state xlsx/'+file)\n",
    "    data = (data[['MDDS DTC','SUB-DISTRICT NAME']][1:]).drop_duplicates()\n",
    "    locations_data = pd.concat([locations_data,data],axis=0)\n",
    "\n",
    "# Resetting the dataframe index.\n",
    "locations_data = locations_data.reset_index(drop=True)"
   ]
  },
  {
   "cell_type": "code",
   "execution_count": 3,
   "metadata": {},
   "outputs": [],
   "source": [
    "# Getting the names of all the ambiguous places.\n",
    "dict1 = dict(locations_data['SUB-DISTRICT NAME'].value_counts())\n",
    "names = set(dict(i for i in dict1.items() if i[1]>1).keys())\n",
    "\n",
    "# Collecting all the indexes of the ambiguous sub-districts/towns.\n",
    "idxs = []\n",
    "data = locations_data.values\n",
    "for i in range(1,len(data)):\n",
    "    if (data[i][1]=='Area not under any Sub-district') or (data[i][1] in names and data[i][0]==data[i-1][0]):\n",
    "        idxs.append(i)\n",
    "\n",
    "# Removing all the ambiguous names.\n",
    "for i in idxs:\n",
    "    locations_data = locations_data.drop(i)\n",
    "\n",
    "# Some special cases.\n",
    "locations_data.loc[(locations_data['MDDS DTC']==520) & (locations_data['SUB-DISTRICT NAME']=='Raigarh')] = [520,'Raigad']\n",
    "locations_data.loc[(locations_data['MDDS DTC']==557) & (locations_data['SUB-DISTRICT NAME']=='Bijapur')] = [557,'Vijayapur']\n",
    "locations_data = locations_data.drop(160)\n",
    "locations_data = locations_data.drop(1293)"
   ]
  },
  {
   "cell_type": "code",
   "execution_count": 4,
   "metadata": {},
   "outputs": [],
   "source": [
    "# Setting up and saving the final file.\n",
    "locations_data.columns = ['District Id','Location Name']\n",
    "locations_data.to_csv('locations_data.csv',index=None)"
   ]
  },
  {
   "cell_type": "code",
   "execution_count": null,
   "metadata": {},
   "outputs": [],
   "source": []
  },
  {
   "cell_type": "code",
   "execution_count": 5,
   "metadata": {},
   "outputs": [],
   "source": [
    "# strip and lower on location names.\n",
    "data = pd.read_csv('locations_data_2.csv')\n",
    "data = data[['District Id','Location Name']].values\n",
    "for i in range(len(data)):\n",
    "    data[i][1] = str(data[i][1]).strip().lower()\n",
    "data = pd.DataFrame(data,columns=['District Id','Location Name'])\n",
    "data.to_csv('locations_data_2.csv',index=None)"
   ]
  }
 ],
 "metadata": {
  "kernelspec": {
   "display_name": "Python 3",
   "language": "python",
   "name": "python3"
  },
  "language_info": {
   "codemirror_mode": {
    "name": "ipython",
    "version": 3
   },
   "file_extension": ".py",
   "mimetype": "text/x-python",
   "name": "python",
   "nbconvert_exporter": "python",
   "pygments_lexer": "ipython3",
   "version": "3.6.9"
  }
 },
 "nbformat": 4,
 "nbformat_minor": 2
}

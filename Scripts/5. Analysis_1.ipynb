{
 "cells": [
  {
   "cell_type": "code",
   "execution_count": 1,
   "metadata": {},
   "outputs": [],
   "source": [
    "import math, statistics\n",
    "import zlib, pickle"
   ]
  },
  {
   "cell_type": "code",
   "execution_count": 2,
   "metadata": {},
   "outputs": [],
   "source": [
    "# Load the data to map the 2011 district_ids to their corresponding 2001 district_ids.\n",
    "file = open('district_mapping.csv')\n",
    "mapping = file.read()[3:].split('\\n')[:-1]\n",
    "file.close()\n",
    "\n",
    "# Forming a dictionary to map the 2011 district_ids to their corresponding 2001 district_ids.\n",
    "temp = {}\n",
    "for i in mapping:\n",
    "    i = i.split(',')\n",
    "    temp[int(i[0])] = int(i[1])\n",
    "mapping = temp\n",
    "\n",
    "# Load the data to map the 2011 labels of districts.\n",
    "file = open('labels_2011.csv')\n",
    "labels = file.read()[3:].split('\\n')[:-1]\n",
    "file.close()\n",
    "\n",
    "# Forming a dictionary to map the 2011 district_ids to their corresponding labels.\n",
    "temp = {}\n",
    "for i in labels:\n",
    "    i = i.split(',')\n",
    "    temp[int(i[0])] = i[1]\n",
    "labels = temp\n",
    "\n",
    "# Load the data to map the 2019 change predictions of districts.\n",
    "file = open('change_predictions_2019.csv')\n",
    "pace = file.read().split('\\n')[1:-1]\n",
    "file.close()\n",
    "\n",
    "# Forming a dictionary to map the 2011 district_ids to their predicted pace of growth.\n",
    "temp = {}\n",
    "for i in pace:\n",
    "    i = i.split(',')\n",
    "    if int(mapping[int(i[0])]) in temp:\n",
    "        temp[int(mapping[int(i[0])])].append(int(i[1]))\n",
    "    else:\n",
    "        temp[int(mapping[int(i[0])])] = [int(i[1])]\n",
    "for i in temp:\n",
    "    temp[i] = math.ceil(statistics.mean(temp[i]))\n",
    "    if temp[i]<2:\n",
    "        temp[i]='Slow'\n",
    "    elif temp[i]==2:\n",
    "        temp[i]='Average'\n",
    "    else:\n",
    "        temp[i]='Fast'\n",
    "pace = temp"
   ]
  },
  {
   "cell_type": "code",
   "execution_count": 3,
   "metadata": {},
   "outputs": [
    {
     "name": "stdout",
     "output_type": "stream",
     "text": [
      "\tSlow\tAvg\tFast\n",
      "Unemp\t124\t75\t29\n",
      "Agri\t145\t72\t12\n",
      "N-Agri\t99\t32\t5\n"
     ]
    }
   ],
   "source": [
    "(unemp_slow,unemp_avg,unemp_fast,agri_slow,agri_avg,agri_fast,non_agri_slow,non_agri_avg,non_agri_fast) = (0 for _ in range(9))\n",
    "\n",
    "for i in labels:\n",
    "    if labels[i]=='Unemp' and pace[i]=='Slow':\n",
    "        unemp_slow+=1\n",
    "    elif labels[i]=='Unemp' and pace[i]=='Average':\n",
    "        unemp_avg+=1\n",
    "    elif labels[i]=='Unemp' and pace[i]=='Fast':\n",
    "        unemp_fast+=1\n",
    "    elif labels[i]=='Agri' and pace[i]=='Slow':\n",
    "        agri_slow+=1\n",
    "    elif labels[i]=='Agri' and pace[i]=='Average':\n",
    "        agri_avg+=1\n",
    "    elif labels[i]=='Agri' and pace[i]=='Fast':\n",
    "        agri_fast+=1\n",
    "    elif labels[i]=='Non Agri' and pace[i]=='Slow':\n",
    "        non_agri_slow+=1\n",
    "    elif labels[i]=='Non Agri' and pace[i]=='Average':\n",
    "        non_agri_avg+=1\n",
    "    elif labels[i]=='Non Agri' and pace[i]=='Fast':\n",
    "        non_agri_fast+=1\n",
    "        \n",
    "\n",
    "print('\\tSlow\\tAvg\\tFast')\n",
    "print('Unemp\\t'+str(unemp_slow)+'\\t'+str(unemp_avg)+'\\t'+str(unemp_fast))\n",
    "print('Agri\\t'+str(agri_slow)+'\\t'+str(agri_avg)+'\\t'+str(agri_fast))\n",
    "print('N-Agri\\t'+str(non_agri_slow)+'\\t'+str(non_agri_avg)+'\\t'+str(non_agri_fast))"
   ]
  },
  {
   "cell_type": "code",
   "execution_count": 4,
   "metadata": {},
   "outputs": [
    {
     "name": "stdout",
     "output_type": "stream",
     "text": [
      "\t\tTotal\tS_Unp\tA_Unp\tF_Unp\tS_Agr\tA_Agr\tF_Agr\tS_NAg\tA_NAg\tF_NAg\n",
      "Agriculture :\t80221\t7506\t5155\t4884\t14513\t5429\t735\t53840\t8955\t443\n",
      "Development :\t15984\t1426\t848\t1034\t2077\t642\t124\t11936\t1571\t137\n",
      "Environment :\t100038\t8720\t5704\t4711\t12141\t3885\t650\t75165\t9444\t1261\n",
      "Industriali :\t111291\t6466\t4017\t3898\t8379\t3002\t325\t94602\t9001\t1126\n",
      "Lifestyle :\t234158\t18829\t12904\t15173\t19616\t6198\t925\t187286\t19622\t2017\n"
     ]
    }
   ],
   "source": [
    "print('\\t\\tTotal\\tS_Unp\\tA_Unp\\tF_Unp\\tS_Agr\\tA_Agr\\tF_Agr\\tS_NAg\\tA_NAg\\tF_NAg')\n",
    "\n",
    "for dataset in ['agriculture', 'development', 'environment', 'industrialization', 'lifestyle']:\n",
    "\n",
    "    file = open('./DT2V_Datasets/dataset_'+dataset,'rb')\n",
    "    data = pickle.loads(zlib.decompress(pickle.load(file)))\n",
    "    file.close()\n",
    "    \n",
    "    (total,unemp_slow,unemp_avg,unemp_fast,agri_slow,agri_avg,agri_fast,non_agri_slow,non_agri_avg,non_agri_fast) = (set() for _ in range(10))\n",
    "    \n",
    "    for i in data:\n",
    "        total.add(i[0])\n",
    "        if i[6]=='Unemp' and i[7]=='Slow':\n",
    "            unemp_slow.add(i[0])\n",
    "        elif i[6]=='Unemp' and i[7]=='Average':\n",
    "            unemp_avg.add(i[0])\n",
    "        elif i[6]=='Unemp' and i[7]=='Fast':\n",
    "            unemp_fast.add(i[0])\n",
    "        elif i[6]=='Agri' and i[7]=='Slow':\n",
    "            agri_slow.add(i[0])\n",
    "        elif i[6]=='Agri' and i[7]=='Average':\n",
    "            agri_avg.add(i[0])\n",
    "        elif i[6]=='Agri' and i[7]=='Fast':\n",
    "            agri_fast.add(i[0])\n",
    "        elif i[6]=='Non Agri' and i[7]=='Slow':\n",
    "            non_agri_slow.add(i[0])\n",
    "        elif i[6]=='Non Agri' and i[7]=='Average':\n",
    "            non_agri_avg.add(i[0])\n",
    "        elif i[6]=='Non Agri' and i[7]=='Fast':\n",
    "            non_agri_fast.add(i[0])\n",
    "    \n",
    "    print(dataset.capitalize()[:11]+' :\\t'+str(len(total))+'\\t'+str(len(unemp_slow))+'\\t'+str(len(unemp_avg))+'\\t'+str(len(unemp_fast))+'\\t'+str(len(agri_slow))+'\\t'+str(len(agri_avg))+'\\t'+str(len(agri_fast))+'\\t'+str(len(non_agri_slow))+'\\t'+str(len(non_agri_avg))+'\\t'+str(len(non_agri_fast)))"
   ]
  },
  {
   "cell_type": "code",
   "execution_count": null,
   "metadata": {},
   "outputs": [],
   "source": []
  }
 ],
 "metadata": {
  "kernelspec": {
   "display_name": "Python 3",
   "language": "python",
   "name": "python3"
  },
  "language_info": {
   "codemirror_mode": {
    "name": "ipython",
    "version": 3
   },
   "file_extension": ".py",
   "mimetype": "text/x-python",
   "name": "python",
   "nbconvert_exporter": "python",
   "pygments_lexer": "ipython3",
   "version": "3.7.6"
  }
 },
 "nbformat": 4,
 "nbformat_minor": 4
}

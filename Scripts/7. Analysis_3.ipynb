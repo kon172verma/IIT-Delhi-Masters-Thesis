{
 "cells": [
  {
   "cell_type": "code",
   "execution_count": 1,
   "metadata": {},
   "outputs": [],
   "source": [
    "# Opening the patterns_common and patterns_unique file.\n",
    "\n",
    "file = open('./Raw results/Analysis/patterns_common.txt')\n",
    "data_common  = file.read()\n",
    "file.close()\n",
    "\n",
    "file = open('./Raw results/Analysis/patterns_unique.txt')\n",
    "data_unique  = file.read()\n",
    "file.close()"
   ]
  },
  {
   "cell_type": "code",
   "execution_count": 2,
   "metadata": {},
   "outputs": [],
   "source": [
    "# Separating the common keywords for collections and their patterns.\n",
    "\n",
    "data = data_common.split('\\n')\n",
    "collections_common = []\n",
    "for lines in range(5):\n",
    "    collection = data[218*lines:218*(lines+1)]\n",
    "    temp = []\n",
    "    temp_set = set()\n",
    "    for i in range(1,len(collection)):\n",
    "        if collection[i]!='' and collection[i][0]!='{':\n",
    "            value = ''.join(sorted(collection[i][:-3].split()))\n",
    "            if value not in temp_set:\n",
    "                temp_set.add(value)\n",
    "                values = collection[i+1].split(', ')[1:]\n",
    "                values[-1] = values[-1][:-1]\n",
    "                temp.append([collection[i][:-3],values])\n",
    "    collections_common.append(temp)"
   ]
  },
  {
   "cell_type": "code",
   "execution_count": 3,
   "metadata": {},
   "outputs": [],
   "source": [
    "# Separating the unique keywords for collections and their patterns.\n",
    "\n",
    "data = data_unique.split('\\n')\n",
    "collections_unique = []\n",
    "for lines in range(5):\n",
    "    collection = data[290*lines:290*(lines+1)]\n",
    "    temp = []\n",
    "    temp_set = set()\n",
    "    for i in range(1,len(collection)):\n",
    "        if collection[i]!='' and collection[i][0]!='{':\n",
    "            value = ''.join(sorted(collection[i][:-3].split()))\n",
    "            if value not in temp_set:\n",
    "                temp_set.add(value)\n",
    "                value1 = collection[i+1][1:-1].split(', ')\n",
    "                value2 = collection[i+2][1:-1].split(', ')\n",
    "                temp.append([collection[i][:-3],value1,value2])\n",
    "    collections_unique.append(temp)"
   ]
  },
  {
   "cell_type": "code",
   "execution_count": 4,
   "metadata": {},
   "outputs": [],
   "source": [
    "# Forming a single variable containing the common and unique keywords for a pattern.\n",
    "\n",
    "patterns_collection = []\n",
    "for k in range(5):\n",
    "    temp = []\n",
    "    for i,j in zip(collections_common[k],collections_unique[k]):\n",
    "        temp.append([i[0],i[1],j[1],j[2]])\n",
    "    patterns_collection.append(temp)"
   ]
  },
  {
   "cell_type": "code",
   "execution_count": 5,
   "metadata": {},
   "outputs": [
    {
     "data": {
      "text/plain": [
       "[['Unemp_slow vs Unemp_avg', 0.4085, 0.1905, 0.3158, 0.2422, 0.2987],\n",
       " ['Unemp_slow vs Unemp_fast', 0.3889, 0.3793, 0.2346, 0.2739, 0.3158],\n",
       " ['Unemp_slow vs Agri_slow', 0.3333, 0.2658, 0.1364, 0.1494, 0.2346],\n",
       " ['Unemp_slow vs Agri_avg', 0.2121, 0.1111, 0.1299, 0.1765, 0.1494],\n",
       " ['Unemp_slow vs Agri_fast', 0.1765, 0.1111, 0.0753, 0.0811, 0.1628],\n",
       " ['Unemp_slow vs Non_agri_slow', 0.3333, 0.1976, 0.1905, 0.2346, 0.2579],\n",
       " ['Unemp_slow vs Non_agri_avg', 0.1834, 0.1976, 0.1429, 0.1628, 0.2195],\n",
       " ['Unemp_slow vs Non_agri_fast', 0.3605, 0.2422, 0.2579, 0.227, 0.2987],\n",
       " ['Unemp_avg vs Unemp_fast', 0.3423, 0.1765, 0.2195, 0.2903, 0.2987],\n",
       " ['Unemp_avg vs Agri_slow', 0.3793, 0.2195, 0.1834, 0.1834, 0.2121],\n",
       " ['Unemp_avg vs Agri_avg', 0.2422, 0.2346, 0.1494, 0.1976, 0.1905],\n",
       " ['Unemp_avg vs Agri_fast', 0.1905, 0.227, 0.1364, 0.105, 0.1905],\n",
       " ['Unemp_avg vs Non_agri_slow', 0.3245, 0.2195, 0.1976, 0.2821, 0.2346],\n",
       " ['Unemp_avg vs Non_agri_avg', 0.2346, 0.1696, 0.2195, 0.1834, 0.25],\n",
       " ['Unemp_avg vs Non_agri_fast', 0.3699, 0.1834, 0.2903, 0.227, 0.227],\n",
       " ['Unemp_fast vs Agri_slow', 0.3245, 0.1765, 0.0989, 0.2195, 0.227],\n",
       " ['Unemp_fast vs Agri_avg', 0.2195, 0.0989, 0.0929, 0.227, 0.1628],\n",
       " ['Unemp_fast vs Agri_fast', 0.1834, 0.105, 0.0695, 0.0989, 0.1696],\n",
       " ['Unemp_fast vs Non_agri_slow', 0.3423, 0.1765, 0.227, 0.2422, 0.2579],\n",
       " ['Unemp_fast vs Non_agri_avg', 0.1905, 0.1494, 0.087, 0.227, 0.2903],\n",
       " ['Unemp_fast vs Non_agri_fast', 0.3699, 0.2658, 0.3158, 0.2422, 0.25],\n",
       " ['Agri_slow vs Agri_avg', 0.2987, 0.2195, 0.2422, 0.2903, 0.2579],\n",
       " ['Agri_slow vs Agri_fast', 0.1696, 0.2121, 0.2346, 0.25, 0.1429],\n",
       " ['Agri_slow vs Non_agri_slow', 0.3793, 0.1834, 0.1429, 0.1765, 0.1111],\n",
       " ['Agri_slow vs Non_agri_avg', 0.227, 0.1834, 0.2658, 0.2195, 0.1429],\n",
       " ['Agri_slow vs Non_agri_fast', 0.3889, 0.1628, 0.105, 0.1765, 0.1299],\n",
       " ['Agri_avg vs Agri_fast', 0.2121, 0.3514, 0.2987, 0.2346, 0.1834],\n",
       " ['Agri_avg vs Non_agri_slow', 0.2579, 0.1429, 0.1173, 0.1696, 0.1173],\n",
       " ['Agri_avg vs Non_agri_avg', 0.2579, 0.1364, 0.1905, 0.2048, 0.1364],\n",
       " ['Agri_avg vs Non_agri_fast', 0.2903, 0.1173, 0.0929, 0.1628, 0.1364],\n",
       " ['Agri_fast vs Non_agri_slow', 0.1628, 0.1976, 0.1111, 0.1236, 0.1494],\n",
       " ['Agri_fast vs Non_agri_avg', 0.2195, 0.1765, 0.1905, 0.1834, 0.2195],\n",
       " ['Agri_fast vs Non_agri_fast', 0.2121, 0.1628, 0.0811, 0.0929, 0.1696],\n",
       " ['Non_agri_slow vs Non_agri_avg', 0.3245, 0.3245, 0.1696, 0.2821, 0.25],\n",
       " ['Non_agri_slow vs Non_agri_fast', 0.5267, 0.3158, 0.3699, 0.3423, 0.4286],\n",
       " ['Non_agri_avg vs Non_agri_fast', 0.3514, 0.3072, 0.1494, 0.2658, 0.2579]]"
      ]
     },
     "execution_count": 5,
     "metadata": {},
     "output_type": "execute_result"
    }
   ],
   "source": [
    "# Computing the jaccard's similarity for each pattern and collection.\n",
    "\n",
    "jaccard_similarity_values = [[0]*6 for i in range(36)]\n",
    "\n",
    "for i in range(len(patterns_collection[0])):\n",
    "    value = patterns_collection[0][i][0].split()\n",
    "    jaccard_similarity_values[i][0] = value[0].capitalize()+' vs '+value[1].capitalize()\n",
    "\n",
    "for i in range(len(patterns_collection)):\n",
    "    for j in range(len(patterns_collection[i])):\n",
    "        temp = patterns_collection[i][j]\n",
    "        jaccard_similarity_values[j][i+1] = round(len(temp[1])/len(set(temp[1])|set(temp[2])|set(temp[3])),4)\n",
    "\n",
    "jaccard_similarity_values"
   ]
  },
  {
   "cell_type": "code",
   "execution_count": 6,
   "metadata": {},
   "outputs": [],
   "source": [
    "# Saving these values.\n",
    "\n",
    "file = open('./Raw results/Analysis/jaccard_similarity.csv','w')\n",
    "for i in jaccard_similarity_values:\n",
    "    temp = ''\n",
    "    for j in i:\n",
    "        temp = temp+str(j)+','\n",
    "    file.write(temp[:-1]+'\\n')\n",
    "file.close()"
   ]
  }
 ],
 "metadata": {
  "kernelspec": {
   "display_name": "Python 3",
   "language": "python",
   "name": "python3"
  },
  "language_info": {
   "codemirror_mode": {
    "name": "ipython",
    "version": 3
   },
   "file_extension": ".py",
   "mimetype": "text/x-python",
   "name": "python",
   "nbconvert_exporter": "python",
   "pygments_lexer": "ipython3",
   "version": "3.7.6"
  }
 },
 "nbformat": 4,
 "nbformat_minor": 4
}

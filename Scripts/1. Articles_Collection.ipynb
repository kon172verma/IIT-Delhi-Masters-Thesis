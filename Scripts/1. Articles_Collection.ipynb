{
 "cells": [
  {
   "cell_type": "code",
   "execution_count": 1,
   "metadata": {},
   "outputs": [],
   "source": [
    "# Importing the required libraries.\n",
    "from pymongo import MongoClient\n",
    "import os\n",
    "from IPython.display import clear_output\n",
    "import pickle \n",
    "import zlib\n",
    "\n",
    "# Creating the connection to the gem2 server.\n",
    "client = MongoClient()"
   ]
  },
  {
   "cell_type": "code",
   "execution_count": 2,
   "metadata": {},
   "outputs": [],
   "source": [
    "# Forming the location dictionary : 'locations'.\n",
    "file = open('locations.csv')\n",
    "locations = file.read().split('\\n')[:-1]\n",
    "file.close()\n",
    "locations[0] = locations[0].split(',')\n",
    "for i in range(1,len(locations)):\n",
    "    temp = locations[i].split(',')\n",
    "    locations[i] = [temp[1],int(temp[0])]\n",
    "locations = dict(locations[1:])"
   ]
  },
  {
   "cell_type": "code",
   "execution_count": 3,
   "metadata": {},
   "outputs": [],
   "source": [
    "# Collect article data.\n",
    "def collect_articles_data(collection_name):\n",
    "    \n",
    "    source_collection = client['MTP'][collection_name]\n",
    "    articles = source_collection.find({})\n",
    "    data1, data2 = [], []\n",
    "    \n",
    "    processed = 0\n",
    "    for article in articles:\n",
    "        flag = False\n",
    "        for entity in article['entities']:\n",
    "            if entity['type']=='ProvinceOrState' or entity['type']=='City':\n",
    "                if entity['name'].lower() in locations:\n",
    "                    flag=True\n",
    "                    data1.append([str(article['_id']), str(locations[entity['name'].lower().strip()])])\n",
    "        if flag:\n",
    "            date = str(article['publishedDate'])\n",
    "            date = (date[:4],date[5:7],date[8:])\n",
    "            data2.append([str(article['_id']), str(article['articleTitle']), str(article['text']), date])\n",
    "        processed+=1\n",
    "        print(collection_name.capitalize(), processed)\n",
    "        clear_output(wait=True)\n",
    "\n",
    "    path_name = './Collections/'+collection_name.capitalize()+' Data/'\n",
    "    os.mkdir(path_name)\n",
    "    \n",
    "    file1 = open(path_name+'file1','wb')        # article_id, locations\n",
    "    file2 = open(path_name+'file2','wb')        # article_id, title, text, date\n",
    "    pickle.dump(zlib.compress(pickle.dumps(data1),pickle.HIGHEST_PROTOCOL),file1,pickle.HIGHEST_PROTOCOL)\n",
    "    pickle.dump(zlib.compress(pickle.dumps(data2),pickle.HIGHEST_PROTOCOL),file2,pickle.HIGHEST_PROTOCOL)\n",
    "    file1.close()\n",
    "    file2.close()"
   ]
  },
  {
   "cell_type": "code",
   "execution_count": 4,
   "metadata": {},
   "outputs": [
    {
     "name": "stdout",
     "output_type": "stream",
     "text": [
      "Lifestyle 233816\n"
     ]
    }
   ],
   "source": [
    "os.mkdir('./Collections/')\n",
    "for collection in ['agriculture','development','environment','industrialization','lifestyle']:\n",
    "    collect_articles_data(collection)"
   ]
  }
 ],
 "metadata": {
  "kernelspec": {
   "display_name": "Python 3",
   "language": "python",
   "name": "python3"
  },
  "language_info": {
   "codemirror_mode": {
    "name": "ipython",
    "version": 3
   },
   "file_extension": ".py",
   "mimetype": "text/x-python",
   "name": "python",
   "nbconvert_exporter": "python",
   "pygments_lexer": "ipython3",
   "version": "3.7.6"
  }
 },
 "nbformat": 4,
 "nbformat_minor": 4
}

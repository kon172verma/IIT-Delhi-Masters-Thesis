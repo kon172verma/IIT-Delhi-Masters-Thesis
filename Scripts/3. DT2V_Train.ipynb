{
 "cells": [
  {
   "cell_type": "code",
   "execution_count": 2,
   "metadata": {},
   "outputs": [],
   "source": [
    "# Importing the required libraries.\n",
    "from gensim.models.doc2vec import Doc2Vec, TaggedDocument\n",
    "from sklearn.metrics.pairwise import cosine_similarity\n",
    "import pickle\n",
    "import zlib\n",
    "\n",
    "# # Mounting google drive.\n",
    "# from google.colab import drive\n",
    "# drive.mount('/content/drive/')"
   ]
  },
  {
   "cell_type": "code",
   "execution_count": null,
   "metadata": {},
   "outputs": [],
   "source": [
    "def DT2V_train(collection_name):\n",
    "\n",
    "    # Loading data from drive.\n",
    "    file = open('drive/My Drive/DT2V/Datasets/dataset_' + collection_name,'rb')\n",
    "    dataset = pickle.loads(zlib.decompress(pickle.load(file)))\n",
    "    file.close()\n",
    "\n",
    "    # Creating the documents.\n",
    "    documents = [TaggedDocument(i[3],[i[0],i[1],i[2],'X'+str(c),'Y'+str(c)]) for c,i in enumerate(dataset)]\n",
    "\n",
    "    # Declaring the DT2V Model.\n",
    "    model = Doc2Vec(vector_size=50,window=3,min_count=3,alpha=0.1,min_alpha=0.001)\n",
    "\n",
    "    # Building vocabulary.\n",
    "    model.build_vocab(documents) \n",
    "    print(len(model.wv.vocab.keys()))\n",
    "    \n",
    "    # Training model.\n",
    "    for epoch in range(100):\n",
    "        if epoch%10==0 and epoch>=40:\n",
    "            model.alpha *= 0.9\n",
    "            print('Learning Rate changed to: ', model.alpha)\n",
    "        model.train(documents,total_examples=len(documents),epochs=1)\n",
    "        print(epoch, cosine_similarity([model.docvecs['X0'],model.docvecs['Y0']])[0][1],cosine_similarity([model.docvecs['94'],model.docvecs['519']])[0][1])\n",
    "\n",
    "    # Saving model.\n",
    "    file = open('drive/My Drive/DT2V/Models/model_'+dataset,'wb')\n",
    "    model.save(file)\n",
    "    file.close()\n",
    "  \n",
    "    "
   ]
  },
  {
   "cell_type": "code",
   "execution_count": null,
   "metadata": {},
   "outputs": [],
   "source": [
    "for collection in ['development']:\n",
    "    DT2V_train(collection)\n",
    "print('Done.')"
   ]
  },
  {
   "cell_type": "code",
   "execution_count": null,
   "metadata": {},
   "outputs": [],
   "source": []
  }
 ],
 "metadata": {
  "kernelspec": {
   "display_name": "Python 3",
   "language": "python",
   "name": "python3"
  },
  "language_info": {
   "codemirror_mode": {
    "name": "ipython",
    "version": 3
   },
   "file_extension": ".py",
   "mimetype": "text/x-python",
   "name": "python",
   "nbconvert_exporter": "python",
   "pygments_lexer": "ipython3",
   "version": "3.7.6"
  }
 },
 "nbformat": 4,
 "nbformat_minor": 4
}

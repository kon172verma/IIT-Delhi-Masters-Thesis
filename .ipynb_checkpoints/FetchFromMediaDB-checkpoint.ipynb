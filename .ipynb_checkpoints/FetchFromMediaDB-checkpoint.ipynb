{
 "cells": [
  {
   "cell_type": "code",
   "execution_count": 2,
   "metadata": {},
   "outputs": [
    {
     "ename": "ModuleNotFoundError",
     "evalue": "No module named 'pymongo'",
     "output_type": "error",
     "traceback": [
      "\u001b[1;31m---------------------------------------------------------------------------\u001b[0m",
      "\u001b[1;31mModuleNotFoundError\u001b[0m                       Traceback (most recent call last)",
      "\u001b[1;32m<ipython-input-2-907ffe1dbde6>\u001b[0m in \u001b[0;36m<module>\u001b[1;34m()\u001b[0m\n\u001b[1;32m----> 1\u001b[1;33m \u001b[1;32mfrom\u001b[0m \u001b[0mpymongo\u001b[0m \u001b[1;32mimport\u001b[0m \u001b[0mMongoClient\u001b[0m\u001b[1;33m\u001b[0m\u001b[0m\n\u001b[0m\u001b[0;32m      2\u001b[0m \u001b[1;32mimport\u001b[0m \u001b[0msubprocess\u001b[0m\u001b[1;33m,\u001b[0m\u001b[0mshlex\u001b[0m\u001b[1;33m\u001b[0m\u001b[0m\n\u001b[0;32m      3\u001b[0m \u001b[1;33m\u001b[0m\u001b[0m\n\u001b[0;32m      4\u001b[0m \u001b[1;33m\u001b[0m\u001b[0m\n\u001b[0;32m      5\u001b[0m \u001b[1;31m#connect to DB and get collection of articles\u001b[0m\u001b[1;33m\u001b[0m\u001b[1;33m\u001b[0m\u001b[0m\n",
      "\u001b[1;31mModuleNotFoundError\u001b[0m: No module named 'pymongo'"
     ]
    }
   ],
   "source": [
    "from pymongo import MongoClient\n",
    "import subprocess,shlex\n",
    "\n",
    "\n",
    "#connect to DB and get collection of articles\n",
    "client = MongoClient('mongodb://act4dgem.cse.iitd.ac.in',serverSelectionTimeoutMS=500000000)\n",
    "collection = client['media-db']['articles']\n"
   ]
  },
  {
   "cell_type": "code",
   "execution_count": 2,
   "metadata": {
    "collapsed": true
   },
   "outputs": [],
   "source": [
    "# fetching the keywords for each sector from sector_keywords.csv\n",
    "sector_tags = {}\n",
    "\n",
    "lines = open('sector_keywords.txt','r').read().lower().split('\\n')\n",
    "i=0\n",
    "while i<len(lines):\n",
    "    sec_no = int(lines[i])\n",
    "    i+=2\n",
    "    sector_tags[sec_no]=lines[i].strip().split(',')\n",
    "    i+=2"
   ]
  },
  {
   "cell_type": "code",
   "execution_count": 3,
   "metadata": {
    "collapsed": true
   },
   "outputs": [],
   "source": [
    "#read districts\n",
    "dist_name_id = {}\n",
    "lines =  open(\"./Tables_csvs/district_codes.csv\",\"r\").read().split(\"\\n\")\n",
    "for line in lines:\n",
    "    [a,b] = line.split(\",\")\n",
    "    dist_name_id[b] = a"
   ]
  },
  {
   "cell_type": "code",
   "execution_count": 2,
   "metadata": {},
   "outputs": [
    {
     "ename": "NameError",
     "evalue": "name 'subprocess' is not defined",
     "output_type": "error",
     "traceback": [
      "\u001b[1;31m---------------------------------------------------------------------------\u001b[0m",
      "\u001b[1;31mNameError\u001b[0m                                 Traceback (most recent call last)",
      "\u001b[1;32m<ipython-input-2-820480f07112>\u001b[0m in \u001b[0;36m<module>\u001b[1;34m()\u001b[0m\n\u001b[0;32m     13\u001b[0m     \u001b[1;32mreturn\u001b[0m \u001b[0maggr\u001b[0m\u001b[1;33m,\u001b[0m \u001b[0mint\u001b[0m\u001b[1;33m(\u001b[0m\u001b[0mpos\u001b[0m\u001b[1;33m)\u001b[0m\u001b[1;33m,\u001b[0m \u001b[0mint\u001b[0m\u001b[1;33m(\u001b[0m\u001b[0mneg\u001b[0m\u001b[1;33m)\u001b[0m\u001b[1;33m\u001b[0m\u001b[0m\n\u001b[0;32m     14\u001b[0m \u001b[1;33m\u001b[0m\u001b[0m\n\u001b[1;32m---> 15\u001b[1;33m \u001b[0mfindSentiment\u001b[0m\u001b[1;33m(\u001b[0m\u001b[1;34m\"Hi, I am Konark, I will kill you\"\u001b[0m\u001b[1;33m)\u001b[0m\u001b[1;33m\u001b[0m\u001b[0m\n\u001b[0m",
      "\u001b[1;32m<ipython-input-2-820480f07112>\u001b[0m in \u001b[0;36mfindSentiment\u001b[1;34m(sentiString)\u001b[0m\n\u001b[0;32m      1\u001b[0m \u001b[1;32mdef\u001b[0m \u001b[0mfindSentiment\u001b[0m\u001b[1;33m(\u001b[0m\u001b[0msentiString\u001b[0m\u001b[1;33m)\u001b[0m\u001b[1;33m:\u001b[0m\u001b[1;33m\u001b[0m\u001b[0m\n\u001b[1;32m----> 2\u001b[1;33m     p = subprocess.Popen(shlex.split(\n\u001b[0m\u001b[0;32m      3\u001b[0m         \"java -jar ./Sentistrength/SentiStrengthCom.jar stdin sentidata ./Sentistrength/SentiStrength_Data/\"),\n\u001b[0;32m      4\u001b[0m         stdin=subprocess.PIPE, stdout=subprocess.PIPE, stderr=subprocess.PIPE)\n\u001b[0;32m      5\u001b[0m     \u001b[0mb\u001b[0m \u001b[1;33m=\u001b[0m \u001b[0msentiString\u001b[0m\u001b[1;33m.\u001b[0m\u001b[0mreplace\u001b[0m\u001b[1;33m(\u001b[0m\u001b[1;34m' '\u001b[0m\u001b[1;33m,\u001b[0m\u001b[1;34m'+'\u001b[0m\u001b[1;33m)\u001b[0m\u001b[1;33m.\u001b[0m\u001b[0mencode\u001b[0m\u001b[1;33m(\u001b[0m\u001b[1;34m'utf-8'\u001b[0m\u001b[1;33m)\u001b[0m\u001b[1;33m\u001b[0m\u001b[0m\n",
      "\u001b[1;31mNameError\u001b[0m: name 'subprocess' is not defined"
     ]
    }
   ],
   "source": [
    "def findSentiment(sentiString):\n",
    "    p = subprocess.Popen(shlex.split(\n",
    "        \"java -jar ./Sentistrength/SentiStrengthCom.jar stdin sentidata ./Sentistrength/SentiStrength_Data/\"),\n",
    "        stdin=subprocess.PIPE, stdout=subprocess.PIPE, stderr=subprocess.PIPE)\n",
    "    b = sentiString.replace(' ','+').encode('utf-8')\n",
    "    stdout_byte, stderr_text = p.communicate(b)\n",
    "    # convert from byte\n",
    "    stdout_text = stdout_byte.decode('utf-8')\n",
    "   \n",
    "    # replace the tab with a space between the positive and negative ratings. e.g. 1    -5 -> 1 -5\n",
    "    pos, neg = stdout_text.rstrip().split('\\t')\n",
    "    aggr = int(pos) + int(neg)\n",
    "    return aggr, int(pos), int(neg)\n",
    "\n",
    "findSentiment(\"Hi, I am Konark, I will kill you\")"
   ]
  },
  {
   "cell_type": "code",
   "execution_count": null,
   "metadata": {},
   "outputs": [
    {
     "name": "stdout",
     "output_type": "stream",
     "text": [
      "Sector ID : 1 \n",
      "\n",
      "Regex : ^Wheat$|^Rice$|^Millets$|^Millet$|^Maize$|^Legume$|^Legumes$|^Dal$|^Cotton$|^Cash Crop$|^Sugarcane$|^Jute$|^Tea$|^Coffee$|^Tobacco$|^Groundnut$|^Sesame$|^Mustard$|^Sunflower$|^Castor$|^Plantation$|^Plantations$|^Cashew$|^Rubber$|^Areca$|^Palm$|^Cocoa$|^Coconut$|^Spices$|^Spice$|^Tea$|^Coffee$|^Fruit$|^Fruits$|^Vegetables$|^Vegetable$|^Forestry$|^Resin$|^Lac$|^Bark$|^Paper$|^Wood$|^Timber$|^Latex$|^Fishing$|^Seafood$|^Fish$|^Poultry$|^Hatching$|^Fisheries$|^Nursury$|^Milk$|^Egg$|^Dairy$|^Livestock$|^Seed$|^Seeds$|^Crops$|^Poultry Farming$ \n",
      "\n"
     ]
    }
   ],
   "source": [
    "data = \"\"\n",
    "location = ['ProvinceOrState','City']\n",
    "\n",
    "for sid in sector_tags:\n",
    "    #regex\n",
    "    tag_regex = ''\n",
    "    for tag in sector_tags[sid]:\n",
    "        tag_regex += '^'+tag.title()+'$|'\n",
    "    tag_regex = tag_regex[:-1]\n",
    "    \n",
    "    print(\"Sector ID :\",sid,\"\\n\")\n",
    "    print(\"Regex :\",tag_regex,\"\\n\")\n",
    "    \n",
    "    #fire query\n",
    "    articles = list(collection.find({'socialTags.name':{'$regex': tag_regex}}))\n",
    "    \n",
    "#     from bson.objectid import ObjectId\n",
    "#     articles = list(collection.find({'_id':ObjectId(\"59036d397be9e0266aeabc06\")}))\n",
    "    \n",
    "    print(\"Total articles found\",len(articles),\"\\n\")\n",
    "    \n",
    "    \n",
    "    for article in articles:\n",
    "        line = \"\"\n",
    "        try:\n",
    "            entities = article[\"entities\"]\n",
    "            for e in entities:\n",
    "                #if entity is a location and identified\n",
    "                if e[\"type\"] in location:\n",
    "                    #location can have an alias in our data, try all aliases and see which one hits\n",
    "                    aliases = [e[\"name\"]]    #first alias is the name itself\n",
    "                    try:\n",
    "                        aliases.extend(e[\"aliases\"])\n",
    "                    except:\n",
    "                        pass\n",
    "                    \n",
    "                    detected = 0\n",
    "                    for a in aliases:\n",
    "                        if a in dist_name_id:\n",
    "                            #add district id\n",
    "                            line += dist_name_id[a]+\",\"\n",
    "                            detected = 1\n",
    "                            break\n",
    "                    \n",
    "                    #if still not detected\n",
    "                    if (not detected):\n",
    "                        continue\n",
    "                    \n",
    "                    #add sector id\n",
    "                    line += str(sid)+\",\"\n",
    "                    \n",
    "                    #add year\n",
    "                    line += article[\"publishedDate\"][:4]+\",\"\n",
    "                                      \n",
    "                    #article id\n",
    "                    line += str(article[\"_id\"])+\",\"\n",
    "                    \n",
    "                    #use vader to compute compund_sentiment,POS and NEG\n",
    "                    sentiments = findSentiment(article['text'])\n",
    "                    line += str(sentiments[0])+\",\"+str(sentiments[1])+\",\"+str(sentiments[2])+\"\\n\"\n",
    "                    data += line\n",
    "                \n",
    "        except:\n",
    "            continue\n",
    "        \n",
    "open(\"./Tables_csvs/\"+\"dist_sect_articles.csv\",\"w\").write(data)"
   ]
  },
  {
   "cell_type": "code",
   "execution_count": null,
   "metadata": {
    "collapsed": true
   },
   "outputs": [],
   "source": [
    "\n"
   ]
  }
 ],
 "metadata": {
  "kernelspec": {
   "display_name": "Python 3",
   "language": "python",
   "name": "python3"
  },
  "language_info": {
   "codemirror_mode": {
    "name": "ipython",
    "version": 3
   },
   "file_extension": ".py",
   "mimetype": "text/x-python",
   "name": "python",
   "nbconvert_exporter": "python",
   "pygments_lexer": "ipython3",
   "version": "3.6.9"
  }
 },
 "nbformat": 4,
 "nbformat_minor": 2
}
